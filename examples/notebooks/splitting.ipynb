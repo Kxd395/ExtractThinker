{
  "cells": [
    {
      "cell_type": "markdown",
      "metadata": {
        "id": "zgD8f9t-g6T5"
      },
      "source": [
        "[![Open In Colab](https://colab.research.google.com/assets/colab-badge.svg)](https://colab.research.google.com/github/your-repo/your-notebook.ipynb)"
      ]
    },
    {
      "cell_type": "markdown",
      "metadata": {
        "id": "hTb9WLITg6T6"
      },
      "source": [
        "# ExtractThinker Splitting Files Example\n",
        "\n",
        "This notebook demonstrates how to split and process documents using ExtractThinker."
      ]
    },
    {
      "cell_type": "markdown",
      "metadata": {
        "id": "22V5zm43g6T6"
      },
      "source": [
        "## Setup\n",
        "\n",
        "First, let's install the required libraries:"
      ]
    },
    {
      "cell_type": "code",
      "execution_count": null,
      "metadata": {
        "id": "mXyJWdrbg6T7"
      },
      "outputs": [],
      "source": [
        "!pip install extract-thinker"
      ]
    },
    {
      "cell_type": "markdown",
      "metadata": {},
      "source": [
        "\n",
        "Then set up the OpenAI API key:"
      ]
    },
    {
      "cell_type": "code",
      "execution_count": 10,
      "metadata": {},
      "outputs": [],
      "source": [
        "# My OpenAI Key\n",
        "import os\n",
        "\n",
        "os.environ[\"OPENAI_API_KEY\"] = \"\""
      ]
    },
    {
      "cell_type": "markdown",
      "metadata": {},
      "source": [
        "## Create a DocumentLoader. \n",
        "\n",
        "To make it simple, we'll use PyPDF\n"
      ]
    },
    {
      "cell_type": "code",
      "execution_count": 11,
      "metadata": {},
      "outputs": [],
      "source": [
        "from extract_thinker import DocumentLoaderPyPdf\n",
        "\n",
        "document_loader = DocumentLoaderPyPdf()\n"
      ]
    },
    {
      "cell_type": "markdown",
      "metadata": {},
      "source": [
        "## Create an Extractor \n",
        "An extractor is the main class that coordinates the extraction process. It needs a DocumentLoader and an LLM."
      ]
    },
    {
      "cell_type": "code",
      "execution_count": 12,
      "metadata": {},
      "outputs": [],
      "source": [
        "from extract_thinker import Extractor\n",
        "\n",
        "extractor = Extractor()"
      ]
    },
    {
      "cell_type": "markdown",
      "metadata": {},
      "source": [
        "Load the document loader into the extractor and the LLM"
      ]
    },
    {
      "cell_type": "code",
      "execution_count": 13,
      "metadata": {},
      "outputs": [],
      "source": [
        "extractor.load_document_loader(document_loader)\n",
        "\n",
        "extractor.load_llm(\"gpt-4o-mini\")"
      ]
    },
    {
      "cell_type": "markdown",
      "metadata": {},
      "source": [
        "## Define the contract and extract the data"
      ]
    },
    {
      "cell_type": "code",
      "execution_count": 14,
      "metadata": {},
      "outputs": [],
      "source": [
        "from extract_thinker import Contract\n",
        "\n",
        "class InvoiceContract(Contract):\n",
        "    invoice_number: str\n",
        "    invoice_date: str"
      ]
    }
  ],
  "metadata": {
    "language_info": {
      "name": "python"
    }
  },
  "nbformat": 4,
  "nbformat_minor": 2
}
